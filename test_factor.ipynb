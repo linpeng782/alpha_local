{
 "cells": [
  {
   "cell_type": "code",
   "execution_count": 1,
   "id": "483563b8",
   "metadata": {},
   "outputs": [],
   "source": [
    "from factor_processing_utils import *\n",
    "import matplotlib.pyplot as plt"
   ]
  },
  {
   "cell_type": "code",
   "execution_count": 2,
   "id": "2aa2f118",
   "metadata": {},
   "outputs": [
    {
     "name": "stdout",
     "output_type": "stream",
     "text": [
      "{'name': 'cfoa_mrq', 'change_day': 5, 'IC mean': 0.0145, 'IC std': 0.0464, 'IR': 0.3113, 'IC>0': 0.6163, 'ABS_IC>2%': 0.6835, 't_stat': 11.3267}\n",
      "{'name': 'cfoa_mrq', 'change_day': 10, 'IC mean': 0.0176, 'IC std': 0.0488, 'IR': 0.3618, 'IC>0': 0.6164, 'ABS_IC>2%': 0.6725, 't_stat': 13.1383}\n",
      "{'name': 'cfoa_mrq', 'change_day': 20, 'IC mean': 0.0225, 'IC std': 0.0542, 'IR': 0.4148, 'IC>0': 0.6425, 'ABS_IC>2%': 0.7036, 't_stat': 15.0059}\n"
     ]
    }
   ],
   "source": [
    "start_date = \"2020-01-01\"\n",
    "end_date = \"2025-07-01\"\n",
    "index_item = \"000852.XSHG\"\n",
    "change_days = [5, 10, 20]\n",
    "\n",
    "stock_universe = INDEX_FIX(start_date, end_date, index_item)\n",
    "stock_list = stock_universe.columns.tolist()\n",
    "date_list = stock_universe.index.tolist()\n",
    "\n",
    "\n",
    "factor_name = \"cfoa_mrq\"\n",
    "factor_definition = Factor(\"cash_flow_from_operating_activities_mrq_0\") / Factor(\n",
    "    \"total_assets_mrq_0\"\n",
    ")\n",
    "factor_raw = execute_factor(factor_definition, stock_list, start_date, end_date)\n",
    "factor_raw.to_pickle(\n",
    "    f\"2025-08-07/{factor_name}_{index_item}_{start_date}_{end_date}.pkl\"\n",
    ")\n",
    "# 数据清洗\n",
    "factor_clean = data_clean(factor_raw, stock_universe, index_item)\n",
    "# 计算IC\n",
    "for change_day in change_days:\n",
    "    ic, performance = calc_ic(factor_clean, change_day, index_item, factor_name)"
   ]
  },
  {
   "cell_type": "code",
   "execution_count": null,
   "id": "e2467289",
   "metadata": {},
   "outputs": [],
   "source": [
    "group_return, turnover_ratio = group_g(\n",
    "    factor_clean, change_day, 10, index_item, name=factor_name\n",
    ")"
   ]
  }
 ],
 "metadata": {
  "kernelspec": {
   "display_name": "peter202507",
   "language": "python",
   "name": "python3"
  },
  "language_info": {
   "codemirror_mode": {
    "name": "ipython",
    "version": 3
   },
   "file_extension": ".py",
   "mimetype": "text/x-python",
   "name": "python",
   "nbconvert_exporter": "python",
   "pygments_lexer": "ipython3",
   "version": "3.11.9"
  }
 },
 "nbformat": 4,
 "nbformat_minor": 5
}
