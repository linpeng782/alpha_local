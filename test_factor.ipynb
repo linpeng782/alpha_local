{
 "cells": [
  {
   "cell_type": "code",
   "execution_count": 20,
   "id": "483563b8",
   "metadata": {},
   "outputs": [],
   "source": [
    "%load_ext autoreload\n",
    "%autoreload 2\n",
    "from factor_processing_utils import *"
   ]
  },
  {
   "cell_type": "code",
   "execution_count": null,
   "id": "2aa2f118",
   "metadata": {},
   "outputs": [],
   "source": [
    "start_date = \"2015-01-01\"\n",
    "end_date = \"2025-07-01\"\n",
    "index_item = \"000852.XSHG\"\n",
    "change_day = 20\n",
    "month_day = 20\n",
    "year_day = 252\n",
    "\n",
    "stock_universe = INDEX_FIX(start_date, end_date, index_item)\n",
    "stock_list = stock_universe.columns.tolist()\n",
    "date_list = stock_universe.index.tolist()\n"
   ]
  },
  {
   "cell_type": "code",
   "execution_count": 44,
   "id": "d6c2aeca",
   "metadata": {},
   "outputs": [],
   "source": [
    "factor_definition = Factor(\"cash_flow_from_operating_activities_ttm_0\") / Factor(\n",
    "    \"total_assets_ttm_0\"\n",
    ")\n",
    "factor_name = \"cfoa_ttm\"\n",
    "raw_path = f\"factor_lib/raw/{factor_name}_{index_item}_{start_date}_{end_date}.pkl\"\n",
    "neu_path = f\"factor_lib/neu/{factor_name}_{index_item}_{start_date}_{end_date}.pkl\""
   ]
  },
  {
   "cell_type": "code",
   "execution_count": null,
   "id": "6e4ea652",
   "metadata": {},
   "outputs": [],
   "source": [
    "raw_factor = execute_factor(factor_definition, stock_list, start_date, end_date)\n",
    "factor_clean = data_clean(raw_factor, stock_universe, index_item)\n",
    "# 计算IC\n",
    "ic, performance = calc_ic(factor_clean, change_day, index_item, factor_name)"
   ]
  },
  {
   "cell_type": "code",
   "execution_count": null,
   "id": "f84306db",
   "metadata": {},
   "outputs": [],
   "source": [
    "# 保存因子\n",
    "raw_factor.to_pickle(raw_path)\n",
    "factor_clean.to_pickle(neu_path)\n",
    "# 分组回测\n",
    "group_return, turnover = group_g(\n",
    "    factor_clean, change_day, 10, index_item, name=factor_name\n",
    ")"
   ]
  }
 ],
 "metadata": {
  "kernelspec": {
   "display_name": "peter202507",
   "language": "python",
   "name": "python3"
  },
  "language_info": {
   "codemirror_mode": {
    "name": "ipython",
    "version": 3
   },
   "file_extension": ".py",
   "mimetype": "text/x-python",
   "name": "python",
   "nbconvert_exporter": "python",
   "pygments_lexer": "ipython3",
   "version": "3.11.9"
  }
 },
 "nbformat": 4,
 "nbformat_minor": 5
}
