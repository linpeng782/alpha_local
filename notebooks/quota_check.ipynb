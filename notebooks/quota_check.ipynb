{
 "cells": [
  {
   "cell_type": "code",
   "execution_count": 3,
   "id": "4fe502fb",
   "metadata": {},
   "outputs": [
    {
     "name": "stdout",
     "output_type": "stream",
     "text": [
      "The autoreload extension is already loaded. To reload it, use:\n",
      "  %reload_ext autoreload\n"
     ]
    }
   ],
   "source": [
    "%load_ext autoreload\n",
    "%autoreload 2\n",
    "import scipy as sp\n",
    "import numpy as np\n",
    "import pandas as pd\n",
    "import seaborn as sns\n",
    "from scipy import stats\n",
    "import statsmodels.api as sm\n",
    "from pathlib import Path\n",
    "import os\n",
    "from rqdatac import *\n",
    "from rqfactor import *\n",
    "from rqfactor import Factor\n",
    "from rqfactor.extension import *\n",
    "\n",
    "init(\"13522652015\", \"123456\")\n",
    "import rqdatac\n",
    "\n",
    "from tqdm import *\n",
    "\n",
    "import matplotlib.pyplot as plt\n",
    "\n",
    "plt.rcParams[\"font.sans-serif\"] = [\n",
    "    \"Arial Unicode MS\",\n",
    "    \"PingFang SC\",\n",
    "    \"Hiragino Sans GB\",\n",
    "    \"STHeiti\",\n",
    "    \"DejaVu Sans\",\n",
    "]\n",
    "plt.rcParams[\"axes.unicode_minus\"] = False\n",
    "\n",
    "import warnings\n",
    "\n",
    "warnings.filterwarnings(\"ignore\")"
   ]
  },
  {
   "cell_type": "code",
   "execution_count": 5,
   "id": "81d8f163",
   "metadata": {},
   "outputs": [
    {
     "data": {
      "text/plain": [
       "{'bytes_used': 2785849,\n",
       " 'bytes_limit': 17179869184.0,\n",
       " 'remaining_days': 118,\n",
       " 'license_type': 'TRIAL'}"
      ]
     },
     "execution_count": 5,
     "metadata": {},
     "output_type": "execute_result"
    }
   ],
   "source": [
    "rqdatac.user.get_quota()"
   ]
  },
  {
   "cell_type": "code",
   "execution_count": null,
   "id": "d91ae4fa",
   "metadata": {},
   "outputs": [],
   "source": []
  }
 ],
 "metadata": {
  "kernelspec": {
   "display_name": "peter202507",
   "language": "python",
   "name": "python3"
  },
  "language_info": {
   "codemirror_mode": {
    "name": "ipython",
    "version": 3
   },
   "file_extension": ".py",
   "mimetype": "text/x-python",
   "name": "python",
   "nbconvert_exporter": "python",
   "pygments_lexer": "ipython3",
   "version": "3.11.9"
  }
 },
 "nbformat": 4,
 "nbformat_minor": 5
}
