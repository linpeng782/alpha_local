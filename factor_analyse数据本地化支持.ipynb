{
 "cells": [
  {
   "attachments": {},
   "cell_type": "markdown",
   "metadata": {},
   "source": [
    "# 因子检测数据获取"
   ]
  },
  {
   "cell_type": "code",
   "execution_count": 80,
   "metadata": {},
   "outputs": [
    {
     "name": "stderr",
     "output_type": "stream",
     "text": [
      "c:\\Users\\Nick_Ni\\anaconda3\\lib\\site-packages\\rqdatac\\client.py:197: UserWarning: rqdatac is already inited. Settings will be changed.\n",
      "  warnings.warn(\"rqdatac is already inited. Settings will be changed.\", stacklevel=0)\n",
      "c:\\Users\\Nick_Ni\\anaconda3\\lib\\site-packages\\rqdatac\\client.py:236: UserWarning: Your account will be expired after  9 days. Please call us at 0755-22676337 to upgrade or purchase or renew your contract.\n",
      "  warnings.warn(\"Your account will be expired after  {} days. \"\n"
     ]
    }
   ],
   "source": [
    "import pandas as pd \n",
    "import numpy as np\n",
    "from scipy import stats\n",
    "from sklearn import linear_model\n",
    "import statsmodels.api as sm\n",
    "from rqdatac import *\n",
    "from rqfactor import *\n",
    "from rqfactor.notebook import *\n",
    "from rqfactor.extension import *\n",
    "init()\n",
    "import rqdatac"
   ]
  },
  {
   "attachments": {},
   "cell_type": "markdown",
   "metadata": {},
   "source": [
    "# 券池过滤数据"
   ]
  },
  {
   "cell_type": "code",
   "execution_count": 95,
   "metadata": {},
   "outputs": [
    {
     "name": "stdout",
     "output_type": "stream",
     "text": [
      " 当前：2022-12-14 / 总量：2022-12-14"
     ]
    }
   ],
   "source": [
    "# 研究时间\n",
    "start_date = '20140101'   # 【example】：2020-01-01\n",
    "end_date = '20221214'       # 【example】：2022-11-01\n",
    "# 研究标的\n",
    "index_item = '399303.XSHE'             # 【example】：全A 000985.XSHG 中证1000 000852.XSHG  国证2000 399303.XSHE 中证500 000905.XSHG 沪深300 000300\n",
    "\n",
    "# 股票池\n",
    "index = pd.DataFrame()\n",
    "trade_days = get_trading_dates(start_date, end_date, market='cn')   #获取期间交易日信息\n",
    "for i in trade_days:\n",
    "    index_day = pd.DataFrame(rqdatac.index_components(index_item, i),columns = [i]).T\n",
    "    index = pd.concat([index,index_day],axis = 0)\n",
    "    print('\\r 当前：{} / 总量：{}'.format(i,trade_days[-1]),end='')\n",
    "\n",
    "# 构建动态股票池 \n",
    "index_fix = index.unstack().reset_index().iloc[:,-2:]\n",
    "index_fix.columns = ['date','stock']\n",
    "index_fix.date = pd.to_datetime(index_fix.date)\n",
    "index_fix['level'] = True\n",
    "index_fix.dropna(inplace = True)\n",
    "index_fix = index_fix.set_index(['date','stock']).level.unstack()\n",
    "index_fix.fillna(False,inplace = True)"
   ]
  },
  {
   "cell_type": "code",
   "execution_count": 89,
   "metadata": {},
   "outputs": [],
   "source": [
    "index_fix.to_pickle('index_filter_000852.pkl')"
   ]
  },
  {
   "cell_type": "code",
   "execution_count": 91,
   "metadata": {},
   "outputs": [],
   "source": [
    "index_fix.to_pickle('index_filter_000300.pkl')"
   ]
  },
  {
   "cell_type": "code",
   "execution_count": 93,
   "metadata": {},
   "outputs": [],
   "source": [
    "index_fix.to_pickle('index_filter_000905.pkl')"
   ]
  },
  {
   "cell_type": "code",
   "execution_count": 96,
   "metadata": {},
   "outputs": [],
   "source": [
    "index_fix.to_pickle('index_filter_399303.pkl')"
   ]
  },
  {
   "attachments": {},
   "cell_type": "markdown",
   "metadata": {},
   "source": [
    "# 新股 涨停 ST 停牌筛选"
   ]
  },
  {
   "cell_type": "code",
   "execution_count": 65,
   "metadata": {},
   "outputs": [],
   "source": [
    "def get_new_stock_filter(stock_list,date_list, newly_listed_threshold=21):\n",
    "\n",
    "    listed_date_list = [rqdatac.instruments(stock).listed_date for stock in stock_list]        \n",
    "    newly_listed_window = pd.Series(index=stock_list, data=[rqdatac.get_next_trading_date(listed_date, n=newly_listed_threshold) for listed_date in listed_date_list])     \n",
    "    newly_listed_label = pd.DataFrame(index=date_list, columns=stock_list, data=0.0)\n",
    "\n",
    "    # 上市时间短语指定窗口的新股标记为1，否则为0\n",
    "    for stock in newly_listed_window.index:\n",
    "        newly_listed_label.loc[:newly_listed_window.loc[stock], stock] = 1.0\n",
    "                    #剔除新股\n",
    "    newly_listed_label.replace(1,True,inplace = True)\n",
    "    newly_listed_label.replace(0,False,inplace = True)\n",
    "    newly_listed_label = newly_listed_label.shift(-1).fillna(method = 'ffill')\n",
    "    print('剔除新股已构建')\n",
    "\n",
    "    return newly_listed_label\n",
    "\n",
    "def get_st_filter(stock_list,date_list):\n",
    "    # 对st股票做标记,st=1,非st=0\n",
    "\n",
    "    st_filter = rqdatac.is_st_stock(stock_list,date_list[0],date_list[-1]).astype('float').reindex(columns=stock_list,index = date_list)                                #剔除ST\n",
    "    st_filter.replace(1,True,inplace = True)\n",
    "    st_filter.replace(0,False,inplace = True)\n",
    "    st_filter = st_filter.shift(-1).fillna(method = 'ffill')\n",
    "    print('剔除ST已构建')\n",
    "\n",
    "    return st_filter\n",
    "\n",
    "def get_suspended_filter(stock_list,date_list):\n",
    "\n",
    "    suspended_filter = rqdatac.is_suspended(stock_list,date_list[0],date_list[-1]).astype('float').reindex(columns=stock_list,index=date_list)\n",
    "\n",
    "    suspended_filter.replace(1,True,inplace = True)\n",
    "    suspended_filter.replace(0,False,inplace = True)\n",
    "    suspended_filter = suspended_filter.shift(-1).fillna(method = 'ffill')\n",
    "    print('剔除停牌已构建')\n",
    "\n",
    "    return suspended_filter\n",
    "\n",
    "def get_limit_up_down_filter(stock_list,date_list):\n",
    "\n",
    "    # 涨停则赋值为1,反之为0    \n",
    "    df = pd.DataFrame(index = date_list,columns=stock_list,data=0.0)\n",
    "    total_price = rqdatac.get_price(stock_list,date_list[0],date_list[-1],adjust_type='none')\n",
    "\n",
    "    for stock in stock_list:\n",
    "\n",
    "        try:\n",
    "            price = total_price.loc[stock]\n",
    "        except:\n",
    "            print('no stock data:',stock)\n",
    "            df[stock] = np.nan\n",
    "            continue                    \n",
    "\n",
    "        # 如果close == limit_up or limit down,则股票涨停或者跌停        \n",
    "        condition = ((price['open'] == price['limit_up']))#|(price['close'] == price['limit_down']))        \n",
    "        if condition.sum()!=0:\n",
    "            df.loc[condition.loc[condition==True].index,stock] = 1.0\n",
    "\n",
    "    df.replace(1.0,True,inplace = True)\n",
    "    df.replace(0.0,False,inplace = True)\n",
    "    df = df.shift(-1).fillna(method = 'ffill')\n",
    "    print('剔除开盘涨停已构建')\n",
    "\n",
    "    return df"
   ]
  },
  {
   "cell_type": "code",
   "execution_count": 40,
   "metadata": {},
   "outputs": [],
   "source": [
    "start_date = '2014-01-01'\n",
    "end_date = '2022-12-15'\n",
    "\n",
    "# 全A\n",
    "insts = all_instruments('CS')\n",
    "# 获取股票池&研究周期\n",
    "stock_list = sorted(insts[((insts['de_listed_date'] == '0000-00-00') | (insts['de_listed_date'] > start_date)) & (insts['listed_date'] <= end_date)].order_book_id.tolist())\n",
    "date_list = get_trading_dates(start_date, end_date, market='cn')"
   ]
  },
  {
   "attachments": {},
   "cell_type": "markdown",
   "metadata": {},
   "source": [
    "## 过滤mask获取"
   ]
  },
  {
   "cell_type": "code",
   "execution_count": 66,
   "metadata": {},
   "outputs": [
    {
     "name": "stdout",
     "output_type": "stream",
     "text": [
      "no stock data: 301368.XSHE\n",
      "no stock data: 301398.XSHE\n",
      "剔除开盘涨停已构建\n"
     ]
    }
   ],
   "source": [
    "limit_up_down_filter = get_limit_up_down_filter(stock_list,date_list)"
   ]
  },
  {
   "cell_type": "code",
   "execution_count": 75,
   "metadata": {},
   "outputs": [
    {
     "name": "stdout",
     "output_type": "stream",
     "text": [
      "<class 'pandas.core.frame.DataFrame'>\n",
      "DatetimeIndex: 2180 entries, 2014-01-02 to 2022-12-14\n",
      "Columns: 4998 entries, 000001.XSHE to 689009.XSHG\n",
      "dtypes: bool(4998)\n",
      "memory usage: 10.5 MB\n"
     ]
    }
   ],
   "source": [
    "limit_up_down_filter.dropna(axis = 1,how = 'all').info()"
   ]
  },
  {
   "cell_type": "code",
   "execution_count": 41,
   "metadata": {},
   "outputs": [
    {
     "name": "stdout",
     "output_type": "stream",
     "text": [
      "剔除新股已构建\n",
      "剔除ST已构建\n",
      "剔除停牌已构建\n",
      "no stock data: 301368.XSHE\n",
      "no stock data: 301398.XSHE\n",
      "剔除开盘涨停已构建\n"
     ]
    }
   ],
   "source": [
    "new_stock_filter = get_new_stock_filter(stock_list,date_list)\n",
    "st_filter = get_st_filter(stock_list,date_list)\n",
    "suspended_filter = get_suspended_filter(stock_list,date_list)\n",
    "limit_up_down_filter = get_limit_up_down_filter(stock_list,date_list)"
   ]
  },
  {
   "cell_type": "code",
   "execution_count": 44,
   "metadata": {},
   "outputs": [],
   "source": [
    "new_stock_filter.dropna(axis = 1,how = 'all').to_pickle('new_stock_filter.pkl')\n",
    "st_filter.dropna(axis = 1,how = 'all').to_pickle('st_filter.pkl')\n",
    "suspended_filter.dropna(axis = 1,how = 'all').to_pickle('suspended_filter.pkl')\n",
    "limit_up_down_filter.dropna(axis = 1,how = 'all').to_pickle('limit_up_down_filter.pkl')"
   ]
  },
  {
   "attachments": {},
   "cell_type": "markdown",
   "metadata": {},
   "source": [
    "# 行业分类"
   ]
  },
  {
   "cell_type": "code",
   "execution_count": 77,
   "metadata": {},
   "outputs": [
    {
     "name": "stdout",
     "output_type": "stream",
     "text": [
      "中信行业数据已获取\n",
      "动态行业数据已构建\n"
     ]
    }
   ],
   "source": [
    "def get_industry_exposure(order_book_ids,datetime_period):\n",
    "    zx2019_industry = rqdatac.client.get_client().execute('__internal__zx2019_industry')\n",
    "    df = pd.DataFrame(zx2019_industry)\n",
    "    df.set_index(['order_book_id', 'start_date'], inplace=True)\n",
    "    df = df['first_industry_name'].sort_index()\n",
    "    print('中信行业数据已获取')\n",
    "\n",
    "    #构建动态行业数据表格\n",
    "    index = pd.MultiIndex.from_product([order_book_ids, datetime_period], names=['order_book_id', 'datetime'])\n",
    "    pos = df.index.searchsorted(index, side='right') - 1\n",
    "    index = index.swaplevel()   # level change (oid, datetime) --> (datetime, oid)\n",
    "    result = pd.Series(df.values[pos], index=index)\n",
    "    result = result.sort_index()\n",
    "    print('动态行业数据已构建')\n",
    "\n",
    "    #生成行业虚拟变量\n",
    "    return pd.get_dummies(result)\n",
    "\n",
    "industry_exposure = get_industry_exposure(stock_list,date_list)"
   ]
  },
  {
   "cell_type": "code",
   "execution_count": 78,
   "metadata": {},
   "outputs": [],
   "source": [
    "industry_exposure.to_pickle('industry_exposure.pkl')"
   ]
  },
  {
   "cell_type": "code",
   "execution_count": 79,
   "metadata": {},
   "outputs": [
    {
     "data": {
      "text/html": [
       "<div>\n",
       "<style scoped>\n",
       "    .dataframe tbody tr th:only-of-type {\n",
       "        vertical-align: middle;\n",
       "    }\n",
       "\n",
       "    .dataframe tbody tr th {\n",
       "        vertical-align: top;\n",
       "    }\n",
       "\n",
       "    .dataframe thead th {\n",
       "        text-align: right;\n",
       "    }\n",
       "</style>\n",
       "<table border=\"1\" class=\"dataframe\">\n",
       "  <thead>\n",
       "    <tr style=\"text-align: right;\">\n",
       "      <th></th>\n",
       "      <th></th>\n",
       "      <th>交通运输</th>\n",
       "      <th>传媒</th>\n",
       "      <th>农林牧渔</th>\n",
       "      <th>医药</th>\n",
       "      <th>商贸零售</th>\n",
       "      <th>国防军工</th>\n",
       "      <th>基础化工</th>\n",
       "      <th>家电</th>\n",
       "      <th>建材</th>\n",
       "      <th>建筑</th>\n",
       "      <th>...</th>\n",
       "      <th>综合</th>\n",
       "      <th>综合金融</th>\n",
       "      <th>计算机</th>\n",
       "      <th>轻工制造</th>\n",
       "      <th>通信</th>\n",
       "      <th>钢铁</th>\n",
       "      <th>银行</th>\n",
       "      <th>非银行金融</th>\n",
       "      <th>食品饮料</th>\n",
       "      <th>餐饮旅游</th>\n",
       "    </tr>\n",
       "    <tr>\n",
       "      <th>datetime</th>\n",
       "      <th>order_book_id</th>\n",
       "      <th></th>\n",
       "      <th></th>\n",
       "      <th></th>\n",
       "      <th></th>\n",
       "      <th></th>\n",
       "      <th></th>\n",
       "      <th></th>\n",
       "      <th></th>\n",
       "      <th></th>\n",
       "      <th></th>\n",
       "      <th></th>\n",
       "      <th></th>\n",
       "      <th></th>\n",
       "      <th></th>\n",
       "      <th></th>\n",
       "      <th></th>\n",
       "      <th></th>\n",
       "      <th></th>\n",
       "      <th></th>\n",
       "      <th></th>\n",
       "      <th></th>\n",
       "    </tr>\n",
       "  </thead>\n",
       "  <tbody>\n",
       "    <tr>\n",
       "      <th rowspan=\"5\" valign=\"top\">2014-01-02</th>\n",
       "      <th>000001.XSHE</th>\n",
       "      <td>0</td>\n",
       "      <td>0</td>\n",
       "      <td>0</td>\n",
       "      <td>0</td>\n",
       "      <td>0</td>\n",
       "      <td>0</td>\n",
       "      <td>0</td>\n",
       "      <td>0</td>\n",
       "      <td>0</td>\n",
       "      <td>0</td>\n",
       "      <td>...</td>\n",
       "      <td>0</td>\n",
       "      <td>0</td>\n",
       "      <td>0</td>\n",
       "      <td>0</td>\n",
       "      <td>0</td>\n",
       "      <td>0</td>\n",
       "      <td>1</td>\n",
       "      <td>0</td>\n",
       "      <td>0</td>\n",
       "      <td>0</td>\n",
       "    </tr>\n",
       "    <tr>\n",
       "      <th>000002.XSHE</th>\n",
       "      <td>0</td>\n",
       "      <td>0</td>\n",
       "      <td>0</td>\n",
       "      <td>0</td>\n",
       "      <td>0</td>\n",
       "      <td>0</td>\n",
       "      <td>0</td>\n",
       "      <td>0</td>\n",
       "      <td>0</td>\n",
       "      <td>0</td>\n",
       "      <td>...</td>\n",
       "      <td>0</td>\n",
       "      <td>0</td>\n",
       "      <td>0</td>\n",
       "      <td>0</td>\n",
       "      <td>0</td>\n",
       "      <td>0</td>\n",
       "      <td>0</td>\n",
       "      <td>0</td>\n",
       "      <td>0</td>\n",
       "      <td>0</td>\n",
       "    </tr>\n",
       "    <tr>\n",
       "      <th>000004.XSHE</th>\n",
       "      <td>0</td>\n",
       "      <td>0</td>\n",
       "      <td>0</td>\n",
       "      <td>1</td>\n",
       "      <td>0</td>\n",
       "      <td>0</td>\n",
       "      <td>0</td>\n",
       "      <td>0</td>\n",
       "      <td>0</td>\n",
       "      <td>0</td>\n",
       "      <td>...</td>\n",
       "      <td>0</td>\n",
       "      <td>0</td>\n",
       "      <td>0</td>\n",
       "      <td>0</td>\n",
       "      <td>0</td>\n",
       "      <td>0</td>\n",
       "      <td>0</td>\n",
       "      <td>0</td>\n",
       "      <td>0</td>\n",
       "      <td>0</td>\n",
       "    </tr>\n",
       "    <tr>\n",
       "      <th>000005.XSHE</th>\n",
       "      <td>0</td>\n",
       "      <td>0</td>\n",
       "      <td>0</td>\n",
       "      <td>0</td>\n",
       "      <td>0</td>\n",
       "      <td>0</td>\n",
       "      <td>0</td>\n",
       "      <td>0</td>\n",
       "      <td>0</td>\n",
       "      <td>0</td>\n",
       "      <td>...</td>\n",
       "      <td>0</td>\n",
       "      <td>0</td>\n",
       "      <td>0</td>\n",
       "      <td>0</td>\n",
       "      <td>0</td>\n",
       "      <td>0</td>\n",
       "      <td>0</td>\n",
       "      <td>0</td>\n",
       "      <td>0</td>\n",
       "      <td>0</td>\n",
       "    </tr>\n",
       "    <tr>\n",
       "      <th>000006.XSHE</th>\n",
       "      <td>0</td>\n",
       "      <td>0</td>\n",
       "      <td>0</td>\n",
       "      <td>0</td>\n",
       "      <td>0</td>\n",
       "      <td>0</td>\n",
       "      <td>0</td>\n",
       "      <td>0</td>\n",
       "      <td>0</td>\n",
       "      <td>0</td>\n",
       "      <td>...</td>\n",
       "      <td>0</td>\n",
       "      <td>0</td>\n",
       "      <td>0</td>\n",
       "      <td>0</td>\n",
       "      <td>0</td>\n",
       "      <td>0</td>\n",
       "      <td>0</td>\n",
       "      <td>0</td>\n",
       "      <td>0</td>\n",
       "      <td>0</td>\n",
       "    </tr>\n",
       "    <tr>\n",
       "      <th>...</th>\n",
       "      <th>...</th>\n",
       "      <td>...</td>\n",
       "      <td>...</td>\n",
       "      <td>...</td>\n",
       "      <td>...</td>\n",
       "      <td>...</td>\n",
       "      <td>...</td>\n",
       "      <td>...</td>\n",
       "      <td>...</td>\n",
       "      <td>...</td>\n",
       "      <td>...</td>\n",
       "      <td>...</td>\n",
       "      <td>...</td>\n",
       "      <td>...</td>\n",
       "      <td>...</td>\n",
       "      <td>...</td>\n",
       "      <td>...</td>\n",
       "      <td>...</td>\n",
       "      <td>...</td>\n",
       "      <td>...</td>\n",
       "      <td>...</td>\n",
       "      <td>...</td>\n",
       "    </tr>\n",
       "    <tr>\n",
       "      <th rowspan=\"5\" valign=\"top\">2022-12-14</th>\n",
       "      <th>688799.XSHG</th>\n",
       "      <td>0</td>\n",
       "      <td>0</td>\n",
       "      <td>0</td>\n",
       "      <td>1</td>\n",
       "      <td>0</td>\n",
       "      <td>0</td>\n",
       "      <td>0</td>\n",
       "      <td>0</td>\n",
       "      <td>0</td>\n",
       "      <td>0</td>\n",
       "      <td>...</td>\n",
       "      <td>0</td>\n",
       "      <td>0</td>\n",
       "      <td>0</td>\n",
       "      <td>0</td>\n",
       "      <td>0</td>\n",
       "      <td>0</td>\n",
       "      <td>0</td>\n",
       "      <td>0</td>\n",
       "      <td>0</td>\n",
       "      <td>0</td>\n",
       "    </tr>\n",
       "    <tr>\n",
       "      <th>688800.XSHG</th>\n",
       "      <td>0</td>\n",
       "      <td>0</td>\n",
       "      <td>0</td>\n",
       "      <td>0</td>\n",
       "      <td>0</td>\n",
       "      <td>0</td>\n",
       "      <td>0</td>\n",
       "      <td>0</td>\n",
       "      <td>0</td>\n",
       "      <td>0</td>\n",
       "      <td>...</td>\n",
       "      <td>0</td>\n",
       "      <td>0</td>\n",
       "      <td>0</td>\n",
       "      <td>0</td>\n",
       "      <td>0</td>\n",
       "      <td>0</td>\n",
       "      <td>0</td>\n",
       "      <td>0</td>\n",
       "      <td>0</td>\n",
       "      <td>0</td>\n",
       "    </tr>\n",
       "    <tr>\n",
       "      <th>688819.XSHG</th>\n",
       "      <td>0</td>\n",
       "      <td>0</td>\n",
       "      <td>0</td>\n",
       "      <td>0</td>\n",
       "      <td>0</td>\n",
       "      <td>0</td>\n",
       "      <td>0</td>\n",
       "      <td>0</td>\n",
       "      <td>0</td>\n",
       "      <td>0</td>\n",
       "      <td>...</td>\n",
       "      <td>0</td>\n",
       "      <td>0</td>\n",
       "      <td>0</td>\n",
       "      <td>0</td>\n",
       "      <td>0</td>\n",
       "      <td>0</td>\n",
       "      <td>0</td>\n",
       "      <td>0</td>\n",
       "      <td>0</td>\n",
       "      <td>0</td>\n",
       "    </tr>\n",
       "    <tr>\n",
       "      <th>688981.XSHG</th>\n",
       "      <td>0</td>\n",
       "      <td>0</td>\n",
       "      <td>0</td>\n",
       "      <td>0</td>\n",
       "      <td>0</td>\n",
       "      <td>0</td>\n",
       "      <td>0</td>\n",
       "      <td>0</td>\n",
       "      <td>0</td>\n",
       "      <td>0</td>\n",
       "      <td>...</td>\n",
       "      <td>0</td>\n",
       "      <td>0</td>\n",
       "      <td>0</td>\n",
       "      <td>0</td>\n",
       "      <td>0</td>\n",
       "      <td>0</td>\n",
       "      <td>0</td>\n",
       "      <td>0</td>\n",
       "      <td>0</td>\n",
       "      <td>0</td>\n",
       "    </tr>\n",
       "    <tr>\n",
       "      <th>689009.XSHG</th>\n",
       "      <td>0</td>\n",
       "      <td>0</td>\n",
       "      <td>0</td>\n",
       "      <td>0</td>\n",
       "      <td>0</td>\n",
       "      <td>0</td>\n",
       "      <td>0</td>\n",
       "      <td>0</td>\n",
       "      <td>0</td>\n",
       "      <td>0</td>\n",
       "      <td>...</td>\n",
       "      <td>0</td>\n",
       "      <td>0</td>\n",
       "      <td>0</td>\n",
       "      <td>0</td>\n",
       "      <td>0</td>\n",
       "      <td>0</td>\n",
       "      <td>0</td>\n",
       "      <td>0</td>\n",
       "      <td>0</td>\n",
       "      <td>0</td>\n",
       "    </tr>\n",
       "  </tbody>\n",
       "</table>\n",
       "<p>10900000 rows × 33 columns</p>\n",
       "</div>"
      ],
      "text/plain": [
       "                          交通运输  传媒  农林牧渔  医药  商贸零售  国防军工  基础化工  家电  建材  建筑  \\\n",
       "datetime   order_book_id                                                     \n",
       "2014-01-02 000001.XSHE       0   0     0   0     0     0     0   0   0   0   \n",
       "           000002.XSHE       0   0     0   0     0     0     0   0   0   0   \n",
       "           000004.XSHE       0   0     0   1     0     0     0   0   0   0   \n",
       "           000005.XSHE       0   0     0   0     0     0     0   0   0   0   \n",
       "           000006.XSHE       0   0     0   0     0     0     0   0   0   0   \n",
       "...                        ...  ..   ...  ..   ...   ...   ...  ..  ..  ..   \n",
       "2022-12-14 688799.XSHG       0   0     0   1     0     0     0   0   0   0   \n",
       "           688800.XSHG       0   0     0   0     0     0     0   0   0   0   \n",
       "           688819.XSHG       0   0     0   0     0     0     0   0   0   0   \n",
       "           688981.XSHG       0   0     0   0     0     0     0   0   0   0   \n",
       "           689009.XSHG       0   0     0   0     0     0     0   0   0   0   \n",
       "\n",
       "                          ...  综合  综合金融  计算机  轻工制造  通信  钢铁  银行  非银行金融  食品饮料  \\\n",
       "datetime   order_book_id  ...                                                 \n",
       "2014-01-02 000001.XSHE    ...   0     0    0     0   0   0   1      0     0   \n",
       "           000002.XSHE    ...   0     0    0     0   0   0   0      0     0   \n",
       "           000004.XSHE    ...   0     0    0     0   0   0   0      0     0   \n",
       "           000005.XSHE    ...   0     0    0     0   0   0   0      0     0   \n",
       "           000006.XSHE    ...   0     0    0     0   0   0   0      0     0   \n",
       "...                       ...  ..   ...  ...   ...  ..  ..  ..    ...   ...   \n",
       "2022-12-14 688799.XSHG    ...   0     0    0     0   0   0   0      0     0   \n",
       "           688800.XSHG    ...   0     0    0     0   0   0   0      0     0   \n",
       "           688819.XSHG    ...   0     0    0     0   0   0   0      0     0   \n",
       "           688981.XSHG    ...   0     0    0     0   0   0   0      0     0   \n",
       "           689009.XSHG    ...   0     0    0     0   0   0   0      0     0   \n",
       "\n",
       "                          餐饮旅游  \n",
       "datetime   order_book_id        \n",
       "2014-01-02 000001.XSHE       0  \n",
       "           000002.XSHE       0  \n",
       "           000004.XSHE       0  \n",
       "           000005.XSHE       0  \n",
       "           000006.XSHE       0  \n",
       "...                        ...  \n",
       "2022-12-14 688799.XSHG       0  \n",
       "           688800.XSHG       0  \n",
       "           688819.XSHG       0  \n",
       "           688981.XSHG       0  \n",
       "           689009.XSHG       0  \n",
       "\n",
       "[10900000 rows x 33 columns]"
      ]
     },
     "execution_count": 79,
     "metadata": {},
     "output_type": "execute_result"
    }
   ],
   "source": [
    "industry_exposure"
   ]
  },
  {
   "attachments": {},
   "cell_type": "markdown",
   "metadata": {},
   "source": [
    "# 市值数据"
   ]
  },
  {
   "cell_type": "code",
   "execution_count": 85,
   "metadata": {},
   "outputs": [
    {
     "data": {
      "text/plain": [
       "True"
      ]
     },
     "execution_count": 85,
     "metadata": {},
     "output_type": "execute_result"
    }
   ],
   "source": [
    "'000043.XSHE' in stock_list"
   ]
  },
  {
   "cell_type": "code",
   "execution_count": 81,
   "metadata": {},
   "outputs": [
    {
     "data": {
      "text/plain": [
       "date        order_book_id\n",
       "2014-01-02  000001.XSHE      25.330970\n",
       "            000002.XSHE      25.200703\n",
       "            000004.XSHE      20.714996\n",
       "            000005.XSHE      21.545989\n",
       "            000006.XSHE      22.606461\n",
       "                               ...    \n",
       "2022-12-15  688799.XSHG      21.988720\n",
       "            688800.XSHG      23.259029\n",
       "            688819.XSHG      24.319310\n",
       "            688981.XSHG      26.547552\n",
       "            689009.XSHG      23.878441\n",
       "Length: 7645226, dtype: float64"
      ]
     },
     "execution_count": 81,
     "metadata": {},
     "output_type": "execute_result"
    }
   ],
   "source": [
    "f = Factor('market_cap_3')\n",
    "df_market_cap_whole = execute_factor(f,stock_list,start_date,end_date).stack()\n",
    "df_market_cap_whole = np.log(df_market_cap_whole)\n",
    "df_market_cap_whole"
   ]
  },
  {
   "cell_type": "code",
   "execution_count": 83,
   "metadata": {},
   "outputs": [],
   "source": [
    "df_market_cap_whole.to_pickle('market_cap.pkl')"
   ]
  },
  {
   "cell_type": "code",
   "execution_count": null,
   "metadata": {},
   "outputs": [],
   "source": []
  }
 ],
 "metadata": {
  "kernelspec": {
   "display_name": "base",
   "language": "python",
   "name": "python3"
  },
  "language_info": {
   "codemirror_mode": {
    "name": "ipython",
    "version": 3
   },
   "file_extension": ".py",
   "mimetype": "text/x-python",
   "name": "python",
   "nbconvert_exporter": "python",
   "pygments_lexer": "ipython3",
   "version": "3.9.7"
  },
  "orig_nbformat": 4,
  "vscode": {
   "interpreter": {
    "hash": "a188c9036d7eeaebc6f77f9e77fe92b7de16926a7dd61bf5b5e0f4aa344b7ab8"
   }
  }
 },
 "nbformat": 4,
 "nbformat_minor": 2
}
